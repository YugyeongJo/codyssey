{
 "cells": [
  {
   "cell_type": "markdown",
   "metadata": {},
   "source": [
    "# 과정1. 추천시스템의 개념과 알고리즘을 파악하라"
   ]
  },
  {
   "cell_type": "markdown",
   "metadata": {},
   "source": [
    "## 문제1) 경험적으로 추천해보기"
   ]
  },
  {
   "cell_type": "code",
   "execution_count": 1,
   "metadata": {},
   "outputs": [],
   "source": [
    "# 수행단계\n",
    "# 데이터는 제공되는 파일인 prob-0101.csv를 사용한다.\n",
    "# 영화 개수, 배급사 수, 감독 수, 출연진 수, 장르 수를 파악한다.\n",
    "# 감독, 출연진 등 중복 조건들에 대해 파악한다.\n",
    "# 본인이 추천하고 싶은 기준을 설정한다.\n",
    "# 본인의 기준에 의해 영화 몇개를 추천하는 것이 적당한지 실험해 본다.\n",
    "# 다양한 접근 조회 방법을 실험한다. (감독, 출연진 중복, 장르별 등)\n",
    "# 개인별로 정한 기준이 서로 어떻게 다른지 확인한다."
   ]
  },
  {
   "cell_type": "markdown",
   "metadata": {},
   "source": [
    "### 0.환경세팅"
   ]
  },
  {
   "cell_type": "code",
   "execution_count": 2,
   "metadata": {},
   "outputs": [
    {
     "name": "stdout",
     "output_type": "stream",
     "text": [
      "Requirement already satisfied: pandas in c:\\users\\user\\appdata\\local\\packages\\pythonsoftwarefoundation.python.3.11_qbz5n2kfra8p0\\localcache\\local-packages\\python311\\site-packages (2.2.3)\n",
      "Requirement already satisfied: numpy>=1.23.2 in c:\\users\\user\\appdata\\local\\packages\\pythonsoftwarefoundation.python.3.11_qbz5n2kfra8p0\\localcache\\local-packages\\python311\\site-packages (from pandas) (2.1.2)\n",
      "Requirement already satisfied: python-dateutil>=2.8.2 in c:\\users\\user\\appdata\\local\\packages\\pythonsoftwarefoundation.python.3.11_qbz5n2kfra8p0\\localcache\\local-packages\\python311\\site-packages (from pandas) (2.9.0.post0)\n",
      "Requirement already satisfied: pytz>=2020.1 in c:\\users\\user\\appdata\\local\\packages\\pythonsoftwarefoundation.python.3.11_qbz5n2kfra8p0\\localcache\\local-packages\\python311\\site-packages (from pandas) (2024.2)\n",
      "Requirement already satisfied: tzdata>=2022.7 in c:\\users\\user\\appdata\\local\\packages\\pythonsoftwarefoundation.python.3.11_qbz5n2kfra8p0\\localcache\\local-packages\\python311\\site-packages (from pandas) (2024.2)\n",
      "Requirement already satisfied: six>=1.5 in c:\\users\\user\\appdata\\local\\packages\\pythonsoftwarefoundation.python.3.11_qbz5n2kfra8p0\\localcache\\local-packages\\python311\\site-packages (from python-dateutil>=2.8.2->pandas) (1.17.0)\n"
     ]
    }
   ],
   "source": [
    "! pip install pandas"
   ]
  },
  {
   "cell_type": "code",
   "execution_count": 3,
   "metadata": {},
   "outputs": [],
   "source": [
    "import pandas as pd"
   ]
  },
  {
   "cell_type": "markdown",
   "metadata": {},
   "source": [
    "### 0.데이터 불러오기"
   ]
  },
  {
   "cell_type": "code",
   "execution_count": 4,
   "metadata": {},
   "outputs": [],
   "source": [
    "df_movie = pd.read_csv('./prob-0101.csv')"
   ]
  },
  {
   "cell_type": "code",
   "execution_count": 5,
   "metadata": {},
   "outputs": [
    {
     "data": {
      "text/html": [
       "<div>\n",
       "<style scoped>\n",
       "    .dataframe tbody tr th:only-of-type {\n",
       "        vertical-align: middle;\n",
       "    }\n",
       "\n",
       "    .dataframe tbody tr th {\n",
       "        vertical-align: top;\n",
       "    }\n",
       "\n",
       "    .dataframe thead th {\n",
       "        text-align: right;\n",
       "    }\n",
       "</style>\n",
       "<table border=\"1\" class=\"dataframe\">\n",
       "  <thead>\n",
       "    <tr style=\"text-align: right;\">\n",
       "      <th></th>\n",
       "      <th>개봉일</th>\n",
       "      <th>제목</th>\n",
       "      <th>배급사</th>\n",
       "      <th>감독</th>\n",
       "      <th>출연진</th>\n",
       "      <th>장르</th>\n",
       "    </tr>\n",
       "  </thead>\n",
       "  <tbody>\n",
       "    <tr>\n",
       "      <th>0</th>\n",
       "      <td>2023-01-04</td>\n",
       "      <td>스위치</td>\n",
       "      <td>롯데컬처웍스, (주)롯데엔터테인먼트</td>\n",
       "      <td>마대윤</td>\n",
       "      <td>권상우, 오정세, 이민정, 박소이, 김준</td>\n",
       "      <td>기타</td>\n",
       "    </tr>\n",
       "    <tr>\n",
       "      <th>1</th>\n",
       "      <td>2023-01-05</td>\n",
       "      <td>강남좀비</td>\n",
       "      <td>(주)와이드릴리즈</td>\n",
       "      <td>이수성</td>\n",
       "      <td>지일주, 지연</td>\n",
       "      <td>드라마</td>\n",
       "    </tr>\n",
       "    <tr>\n",
       "      <th>2</th>\n",
       "      <td>2023-01-12</td>\n",
       "      <td>별 볼일 없는 인생</td>\n",
       "      <td>(주)이놀미디어</td>\n",
       "      <td>서동현</td>\n",
       "      <td>정가은</td>\n",
       "      <td>멜로/로맨스</td>\n",
       "    </tr>\n",
       "    <tr>\n",
       "      <th>3</th>\n",
       "      <td>2023-01-12</td>\n",
       "      <td>10일간의 애인</td>\n",
       "      <td>(주)그노스</td>\n",
       "      <td>이영용</td>\n",
       "      <td>송민경</td>\n",
       "      <td>멜로/로맨스</td>\n",
       "    </tr>\n",
       "    <tr>\n",
       "      <th>4</th>\n",
       "      <td>2023-01-18</td>\n",
       "      <td>교섭</td>\n",
       "      <td>플렉스엠엔터테인먼트</td>\n",
       "      <td>임순례</td>\n",
       "      <td>황정민, 현빈, 강기영</td>\n",
       "      <td>드라마</td>\n",
       "    </tr>\n",
       "  </tbody>\n",
       "</table>\n",
       "</div>"
      ],
      "text/plain": [
       "          개봉일          제목                  배급사   감독                     출연진  \\\n",
       "0  2023-01-04         스위치  롯데컬처웍스, (주)롯데엔터테인먼트  마대윤  권상우, 오정세, 이민정, 박소이, 김준   \n",
       "1  2023-01-05        강남좀비            (주)와이드릴리즈  이수성                 지일주, 지연   \n",
       "2  2023-01-12  별 볼일 없는 인생             (주)이놀미디어  서동현                     정가은   \n",
       "3  2023-01-12    10일간의 애인               (주)그노스  이영용                     송민경   \n",
       "4  2023-01-18          교섭           플렉스엠엔터테인먼트  임순례            황정민, 현빈, 강기영   \n",
       "\n",
       "       장르  \n",
       "0      기타  \n",
       "1     드라마  \n",
       "2  멜로/로맨스  \n",
       "3  멜로/로맨스  \n",
       "4     드라마  "
      ]
     },
     "execution_count": 5,
     "metadata": {},
     "output_type": "execute_result"
    }
   ],
   "source": [
    "df_movie.head()"
   ]
  },
  {
   "cell_type": "code",
   "execution_count": 6,
   "metadata": {},
   "outputs": [
    {
     "name": "stdout",
     "output_type": "stream",
     "text": [
      "<class 'pandas.core.frame.DataFrame'>\n",
      "RangeIndex: 59 entries, 0 to 58\n",
      "Data columns (total 6 columns):\n",
      " #   Column  Non-Null Count  Dtype \n",
      "---  ------  --------------  ----- \n",
      " 0   개봉일     59 non-null     object\n",
      " 1   제목      59 non-null     object\n",
      " 2   배급사     59 non-null     object\n",
      " 3   감독      59 non-null     object\n",
      " 4   출연진     59 non-null     object\n",
      " 5   장르      59 non-null     object\n",
      "dtypes: object(6)\n",
      "memory usage: 2.9+ KB\n"
     ]
    }
   ],
   "source": [
    "df_movie.info()"
   ]
  },
  {
   "cell_type": "code",
   "execution_count": 8,
   "metadata": {},
   "outputs": [],
   "source": [
    "def get_value_counts(df):\n",
    "    \"\"\"\n",
    "    모든 컬럼에 대해 value_counts를 계산하는 함수.\n",
    "    \n",
    "    Parameters:\n",
    "    df (pd.DataFrame): 분석할 DataFrame\n",
    "\n",
    "    Returns:\n",
    "    dict: 컬럼별 value_counts를 담은 딕셔너리\n",
    "    \"\"\"\n",
    "    value_counts_dict = {}\n",
    "    for column in df.columns:\n",
    "        value_counts_dict[column] = df[column].value_counts()\n",
    "    return value_counts_dict"
   ]
  },
  {
   "cell_type": "code",
   "execution_count": 9,
   "metadata": {},
   "outputs": [
    {
     "name": "stdout",
     "output_type": "stream",
     "text": [
      "Value counts for column '개봉일':\n",
      "개봉일\n",
      "2023-04-12    6\n",
      "2023-03-29    5\n",
      "2023-04-05    4\n",
      "2023-02-08    3\n",
      "2023-05-10    3\n",
      "2023-06-21    3\n",
      "2023-03-01    2\n",
      "2023-01-18    2\n",
      "2023-06-28    2\n",
      "2023-06-07    2\n",
      "2023-06-08    2\n",
      "2023-05-31    2\n",
      "2023-04-19    2\n",
      "2023-02-22    2\n",
      "2023-01-12    2\n",
      "2023-01-05    1\n",
      "2023-03-15    1\n",
      "2023-03-23    1\n",
      "2023-02-23    1\n",
      "2023-03-08    1\n",
      "2023-01-04    1\n",
      "2023-01-20    1\n",
      "2023-01-25    1\n",
      "2023-02-17    1\n",
      "2023-05-17    1\n",
      "2023-04-27    1\n",
      "2023-04-26    1\n",
      "2023-04-14    1\n",
      "2023-04-06    1\n",
      "2023-05-24    1\n",
      "2023-05-18    1\n",
      "2023-06-14    1\n",
      "Name: count, dtype: int64\n",
      "\n",
      "Value counts for column '제목':\n",
      "제목\n",
      "스위치                         1\n",
      "강남좀비                        1\n",
      "별 볼일 없는 인생                  1\n",
      "10일간의 애인                    1\n",
      "교섭                          1\n",
      "유령                          1\n",
      "정이                          1\n",
      "열여덟, 어른이 되는 나이              1\n",
      "다음 소희                       1\n",
      "어쩌면 우린 헤어졌는지 모른다            1\n",
      "우리 사랑이 향기로 남을 때             1\n",
      "스마트폰을 떨어뜨렸을 뿐인데             1\n",
      "카운트                         1\n",
      "살수                          1\n",
      "컨버세이션                       1\n",
      "멍뭉이                         1\n",
      "대외비                         1\n",
      "그대 어이가리                     1\n",
      "소울메이트                       1\n",
      "낭만 캠퍼스                      1\n",
      "여섯 개의 밤                     1\n",
      "여덟 번째 감각                    1\n",
      "웅남이                         1\n",
      "찬란한 나의 복수                   1\n",
      "흐르다                         1\n",
      "리바운드                        1\n",
      "장기자랑                        1\n",
      "오늘 출가합니다                    1\n",
      "불멸의 여자                      1\n",
      "솔라 플라워                      1\n",
      "사랑의 고고학                     1\n",
      "보이지 않아                      1\n",
      "제비                          1\n",
      "나는 여기에 있다                   1\n",
      "물안에서                        1\n",
      "밥만 잘 사주는 이상한 이사님 극장판        1\n",
      "킬링 로맨스                      1\n",
      "낭만적 공장                      1\n",
      "튤립 모양                       1\n",
      "드림                          1\n",
      "2퍼센트                        1\n",
      "롱디                          1\n",
      "바람개비                        1\n",
      "스트리머                        1\n",
      "말이야 바른 말이지                  1\n",
      "남자는 처음을 원하고 여자는 마지막을 원한다    1\n",
      "스프린터                        1\n",
      "드림팰리스                       1\n",
      "범죄도시 3                      1\n",
      "박하경 여행기                     1\n",
      "익스트림 페스티벌                   1\n",
      "안나푸르나                       1\n",
      "육지것들                        1\n",
      "실버맨                         1\n",
      "귀공자                         1\n",
      "손                           1\n",
      "인드림                         1\n",
      "아수라장: 범털들의 전쟁               1\n",
      "라방                          1\n",
      "Name: count, dtype: int64\n",
      "\n",
      "Value counts for column '배급사':\n",
      "배급사\n",
      "(주)이놀미디어               2\n",
      "필름 다빈                  2\n",
      "넷플릭스                   2\n",
      "(주)CJ ENM              2\n",
      "(주)인디스토리               2\n",
      "(주)넥스트엔터테인먼트월드         2\n",
      "(주)제이앤씨미디어그룹           2\n",
      "롯데컬처웍스, (주)롯데엔터테인먼트    1\n",
      "(주)그노스                 1\n",
      "(주)와이드릴리즈              1\n",
      "플렉스엠엔터테인먼트             1\n",
      "트윈플러스파트너스              1\n",
      "(주)콘텐츠존, (주)다자인소프트     1\n",
      "(주)영화특별시 에스엠씨          1\n",
      "플러스엠엔터테인먼트             1\n",
      "(주)와이웍스엔터테인먼트          1\n",
      "(주)영화사 순수              1\n",
      "(주)콘텐츠윙                1\n",
      "(주)플레이그램               1\n",
      "(주)CJ CGV              1\n",
      "영화배급협동조합 씨네소파          1\n",
      "M&M 인터내셔널              1\n",
      "(주)바른손이앤아이             1\n",
      "(주)영화사 진진              1\n",
      "(주)트리플픽쳐스              1\n",
      "드림팩트엔터테인먼트             1\n",
      "㈜스토리제이                 1\n",
      "(주)엣나인필름               1\n",
      "아웃런브라더스픽쳐스             1\n",
      "(주)시네마달                1\n",
      "와이드릴리즈(주)              1\n",
      "영화제작전원사, 콘텐츠판다         1\n",
      "CJ CGV                 1\n",
      "롯데컬쳐웍스 (주)롯데엔터테인먼트     1\n",
      "(주)영화사오윈               1\n",
      "삼거리픽쳐스                 1\n",
      "(주)플렉스엠엔터테인먼트          1\n",
      "시네마 뉴원                 1\n",
      "(주)넥스트엔터테인먼트           1\n",
      "(주)디스테이션               1\n",
      "TCO(주)더콘텐츠온            1\n",
      "씨에스픽쳐스                 1\n",
      "(주)스토리제이               1\n",
      "스튜디오 에이드               1\n",
      "(주)에이비오엔터테인먼트          1\n",
      "CJ엔터테인먼트               1\n",
      "트윈플러스파트너스(주)           1\n",
      "시네마뉴원                  1\n",
      "(주)씨엠닉스                1\n",
      "(주)이눌미디어               1\n",
      "(주)원더스튜디오              1\n",
      "트리플픽쳐스                 1\n",
      "Name: count, dtype: int64\n",
      "\n",
      "Value counts for column '감독':\n",
      "감독\n",
      "최윤호                        2\n",
      "마대윤                        1\n",
      "서동현                        1\n",
      "이영용                        1\n",
      "임순례                        1\n",
      "이해영                        1\n",
      "연상호                        1\n",
      "주영                         1\n",
      "정주리                        1\n",
      "이수성                        1\n",
      "임성용                        1\n",
      "김태준                        1\n",
      "권혁재                        1\n",
      "곽정덕                        1\n",
      "김덕중                        1\n",
      "김주환                        1\n",
      "이원태                        1\n",
      "이창열                        1\n",
      "민용근                        1\n",
      "박동기                        1\n",
      "최창환                        1\n",
      "배인우                        1\n",
      "박성광                        1\n",
      "임성운                        1\n",
      "김현정                        1\n",
      "형슬우                        1\n",
      "장항준                        1\n",
      "이소현                        1\n",
      "최종태                        1\n",
      "김성환                        1\n",
      "이완민                        1\n",
      "최세환                        1\n",
      "이송희일                       1\n",
      "한경탁                        1\n",
      "홍상수                        1\n",
      "양경희                        1\n",
      "이원석                        1\n",
      "조은성                        1\n",
      "양윤모                        1\n",
      "이병헌                        1\n",
      "문신구                        1\n",
      "신근호                        1\n",
      "임재완                        1\n",
      "이상훈                        1\n",
      "박동훈, 최하나, 송현주, 한인미, 윤성호    1\n",
      "장형모                        1\n",
      "최승연                        1\n",
      "가성문                        1\n",
      "이상용                        1\n",
      "이현준                        1\n",
      "이종필                        1\n",
      "김홍기                        1\n",
      "황승제                        1\n",
      "이황                         1\n",
      "박훈정                        1\n",
      "신재호                        1\n",
      "윤여창                        1\n",
      "최주연                        1\n",
      "Name: count, dtype: int64\n",
      "\n",
      "Value counts for column '출연진':\n",
      "출연진\n",
      "권상우, 오정세, 이민정, 박소이, 김준                                                                                    1\n",
      "지일주, 지연                                                                                                   1\n",
      "정가은                                                                                                       1\n",
      "송민경                                                                                                       1\n",
      "황정민, 현빈, 강기영                                                                                              1\n",
      "설경구, 이하늬, 박소감, 박해수, 서현우, 김동희                                                                              1\n",
      "강수연, 김현주, 류경수                                                                                             1\n",
      "임선우, 김명찬, 이장유, 박현숙                                                                                        1\n",
      "김시은, 배두나, 박우영, 정수하                                                                                        1\n",
      "이동휘, 정은채, 강길우, 정다은                                                                                        1\n",
      "윤시윤, 설인아, 노상현, 문지인, 이규복, 김영웅                                                                              1\n",
      "천우희, 임시완, 김희원                                                                                             1\n",
      "진선규, 성유빈, 오나라, 고창석, 장동주, 고규필                                                                              1\n",
      "신현준, 이문식, 김민경, 홍은기, 최성원                                                                                   1\n",
      "조은지, 박종환, 곽민규, 소이, 송은지, 곽진무                                                                               1\n",
      "유연석, 차태현                                                                                                  1\n",
      "조진웅, 이성민, 김무열                                                                                             1\n",
      "선동혁, 정아미, 박종진                                                                                             1\n",
      "김다미, 전소니, 변우석                                                                                             1\n",
      "신민재, 송보은, 이경욱, 설유진, 현진영, 박동기, 김세환                                                                         1\n",
      "강길우, 강진아, 김시은, 변중희, 이한주, 정수지                                                                              1\n",
      "오준택, 임지섭, 박해인, 장영준, 방진원, 서지안, 채수아                                                                         1\n",
      "박성웅, 이이경, 염혜란, 최민수, 오달수, 윤제문, 백지혜, 서동원, 한다솔                                                               1\n",
      "허준석, 이영석, 남보라                                                                                             1\n",
      "이설, 박지수                                                                                                   1\n",
      "안재홍, 양한열                                                                                                  1\n",
      "김명임, 김도현, 김순덕, 박유신, 이미경, 최지연, 박혜영                                                                         1\n",
      "양홍주, 나현준                                                                                                  1\n",
      "이음, 윤가현, 인내상                                                                                              1\n",
      "오원빈, 서지희, 심현탁, 박정철, 김수하, 김민, 김봉주, 조수빈, 정병훈                                                                1\n",
      "옥자연, 기윤, 하민호                                                                                              1\n",
      "박호산, 신애리, 백수련, 이노아, 정혜인, 이용녀                                                                              1\n",
      "윤박, 우지현, 박미현, 장희령, 이대연, 박소진, 유인수                                                                          1\n",
      "조한선, 정지운, 정태우, 노수산나, 박순천, 정인기, 이지원                                                                        1\n",
      "신석호, 하성국, 김승윤, 김민희, 김소령                                                                                   1\n",
      "박정우, 박영훈                                                                                                  1\n",
      "이하늬, 이선균, 공명, 김상욱                                                                                         1\n",
      "심희섭, 전혜진, 한승도, 박수영                                                                                        1\n",
      "유다인, 김다현, 문희경, 김정균, 진혜원, 이지용                                                                              1\n",
      "박서준, 아이유, 김종수, 고창석, 정승길, 이현우, 양현민, 홍완표, 허준석, 이하늬                                                          1\n",
      "허지나, 남명렬                                                                                                  1\n",
      "장동윤, 박유나                                                                                                  1\n",
      "차선우, 유지애, 김소희, 이원석, 서지후                                                                                   1\n",
      "이푸름, 권민혁, 김준형, 심소영, 김모범                                                                                   1\n",
      "김경일, 양현민, 김소형, 김우겸, 정승길, 조윤서, 신사랑, 오경화, 서벽준, 정유연                                                          1\n",
      "윤성모, 정미미, 장원혁                                                                                             1\n",
      "박성일, 공민정, 임지호, 전신환, 송덕호, 최준혁, 한태경                                                                         1\n",
      "김선영, 이윤지, 최민영, 김용준                                                                                        1\n",
      "마동석, 이준혁, 아오키 무네타카, 이범수, 김민재, 이지훈, 김도건, 최동구, 이세호, 고규필, 전석호, 최우준, 한규원, 이태규, 홍준영, 안세호, 강윤, 배누리, 심영은, 김기호    1\n",
      "이나영                                                                                                       1\n",
      "김재화, 조민재, 박강섭                                                                                             1\n",
      "김강현, 차선우, 한수연, 신연서, 서은채                                                                                   1\n",
      "소이                                                                                                        1\n",
      "김정팔, 박상욱, 신의현, 이경준, 유재인                                                                                   1\n",
      "김선호, 강태주, 김강우, 고아라                                                                                        1\n",
      "이재원, 박상욱, 정서하, 허웅, 안수호                                                                                    1\n",
      "서효림, 오지호, 김승수, 이설구, 노지유                                                                                   1\n",
      "정영주, 안미나, 배진아, 한가은                                                                                        1\n",
      "박성웅, 박선호, 김희정                                                                                             1\n",
      "Name: count, dtype: int64\n",
      "\n",
      "Value counts for column '장르':\n",
      "장르\n",
      "드라마                27\n",
      "액션                  5\n",
      "코미디                 4\n",
      "멜로·로맨스              3\n",
      "멜로/로맨스              2\n",
      "기타                  2\n",
      "스릴러                 2\n",
      "멜로·로맨스·코미디          2\n",
      "범죄, 드라마             1\n",
      "드라마, 멜로·로맨스, 가족     1\n",
      "코미디, 액션             1\n",
      "SF                  1\n",
      "다큐멘터리               1\n",
      "멜로,로맨스,드라마          1\n",
      "범죄·액션·스럴리           1\n",
      "드라마,멜로              1\n",
      "공포·미스터리             1\n",
      "범죄, 액션              1\n",
      "공포,코미디              1\n",
      "범죄                  1\n",
      "Name: count, dtype: int64\n",
      "\n"
     ]
    }
   ],
   "source": [
    "value_counts_result = get_value_counts(df_movie)\n",
    "for col, counts in value_counts_result.items():\n",
    "    print(f\"Value counts for column '{col}':\\n{counts}\\n\")"
   ]
  },
  {
   "cell_type": "markdown",
   "metadata": {},
   "source": [
    "### 1.영화 개수, 배급사 수, 감독 수, 출연진 수, 장르 수를 파악한다."
   ]
  },
  {
   "cell_type": "markdown",
   "metadata": {},
   "source": [
    "#### 영화 개수 파악 - 59개"
   ]
  },
  {
   "cell_type": "code",
   "execution_count": 11,
   "metadata": {},
   "outputs": [
    {
     "data": {
      "text/plain": [
       "제목\n",
       "스위치                         1\n",
       "강남좀비                        1\n",
       "별 볼일 없는 인생                  1\n",
       "10일간의 애인                    1\n",
       "교섭                          1\n",
       "유령                          1\n",
       "정이                          1\n",
       "열여덟, 어른이 되는 나이              1\n",
       "다음 소희                       1\n",
       "어쩌면 우린 헤어졌는지 모른다            1\n",
       "우리 사랑이 향기로 남을 때             1\n",
       "스마트폰을 떨어뜨렸을 뿐인데             1\n",
       "카운트                         1\n",
       "살수                          1\n",
       "컨버세이션                       1\n",
       "멍뭉이                         1\n",
       "대외비                         1\n",
       "그대 어이가리                     1\n",
       "소울메이트                       1\n",
       "낭만 캠퍼스                      1\n",
       "여섯 개의 밤                     1\n",
       "여덟 번째 감각                    1\n",
       "웅남이                         1\n",
       "찬란한 나의 복수                   1\n",
       "흐르다                         1\n",
       "리바운드                        1\n",
       "장기자랑                        1\n",
       "오늘 출가합니다                    1\n",
       "불멸의 여자                      1\n",
       "솔라 플라워                      1\n",
       "사랑의 고고학                     1\n",
       "보이지 않아                      1\n",
       "제비                          1\n",
       "나는 여기에 있다                   1\n",
       "물안에서                        1\n",
       "밥만 잘 사주는 이상한 이사님 극장판        1\n",
       "킬링 로맨스                      1\n",
       "낭만적 공장                      1\n",
       "튤립 모양                       1\n",
       "드림                          1\n",
       "2퍼센트                        1\n",
       "롱디                          1\n",
       "바람개비                        1\n",
       "스트리머                        1\n",
       "말이야 바른 말이지                  1\n",
       "남자는 처음을 원하고 여자는 마지막을 원한다    1\n",
       "스프린터                        1\n",
       "드림팰리스                       1\n",
       "범죄도시 3                      1\n",
       "박하경 여행기                     1\n",
       "익스트림 페스티벌                   1\n",
       "안나푸르나                       1\n",
       "육지것들                        1\n",
       "실버맨                         1\n",
       "귀공자                         1\n",
       "손                           1\n",
       "인드림                         1\n",
       "아수라장: 범털들의 전쟁               1\n",
       "라방                          1\n",
       "Name: count, dtype: int64"
      ]
     },
     "execution_count": 11,
     "metadata": {},
     "output_type": "execute_result"
    }
   ],
   "source": [
    "df_movie['제목'].value_counts()\n",
    "# 중복값 없음"
   ]
  },
  {
   "cell_type": "code",
   "execution_count": 13,
   "metadata": {},
   "outputs": [
    {
     "data": {
      "text/plain": [
       "(59, 6)"
      ]
     },
     "execution_count": 13,
     "metadata": {},
     "output_type": "execute_result"
    }
   ],
   "source": [
    "df_movie.shape\n",
    "# 59개의 영화가 존재"
   ]
  },
  {
   "cell_type": "markdown",
   "metadata": {},
   "source": [
    "#### 배급사 수 - 63개"
   ]
  },
  {
   "cell_type": "code",
   "execution_count": 32,
   "metadata": {},
   "outputs": [
    {
     "data": {
      "text/plain": [
       "배급사\n",
       "(주)이놀미디어               2\n",
       "필름 다빈                  2\n",
       "넷플릭스                   2\n",
       "(주)CJ ENM              2\n",
       "(주)인디스토리               2\n",
       "(주)넥스트엔터테인먼트월드         2\n",
       "(주)제이앤씨미디어그룹           2\n",
       "롯데컬처웍스, (주)롯데엔터테인먼트    1\n",
       "(주)그노스                 1\n",
       "(주)와이드릴리즈              1\n",
       "플렉스엠엔터테인먼트             1\n",
       "트윈플러스파트너스              1\n",
       "(주)콘텐츠존, (주)다자인소프트     1\n",
       "(주)영화특별시 에스엠씨          1\n",
       "플러스엠엔터테인먼트             1\n",
       "(주)와이웍스엔터테인먼트          1\n",
       "(주)영화사 순수              1\n",
       "(주)콘텐츠윙                1\n",
       "(주)플레이그램               1\n",
       "(주)CJ CGV              1\n",
       "영화배급협동조합 씨네소파          1\n",
       "M&M 인터내셔널              1\n",
       "(주)바른손이앤아이             1\n",
       "(주)영화사 진진              1\n",
       "(주)트리플픽쳐스              1\n",
       "드림팩트엔터테인먼트             1\n",
       "㈜스토리제이                 1\n",
       "(주)엣나인필름               1\n",
       "아웃런브라더스픽쳐스             1\n",
       "(주)시네마달                1\n",
       "와이드릴리즈(주)              1\n",
       "영화제작전원사, 콘텐츠판다         1\n",
       "CJ CGV                 1\n",
       "롯데컬쳐웍스 (주)롯데엔터테인먼트     1\n",
       "(주)영화사오윈               1\n",
       "삼거리픽쳐스                 1\n",
       "(주)플렉스엠엔터테인먼트          1\n",
       "시네마 뉴원                 1\n",
       "(주)넥스트엔터테인먼트           1\n",
       "(주)디스테이션               1\n",
       "TCO(주)더콘텐츠온            1\n",
       "씨에스픽쳐스                 1\n",
       "(주)스토리제이               1\n",
       "스튜디오 에이드               1\n",
       "(주)에이비오엔터테인먼트          1\n",
       "CJ엔터테인먼트               1\n",
       "트윈플러스파트너스(주)           1\n",
       "시네마뉴원                  1\n",
       "(주)씨엠닉스                1\n",
       "(주)이눌미디어               1\n",
       "(주)원더스튜디오              1\n",
       "트리플픽쳐스                 1\n",
       "Name: count, dtype: int64"
      ]
     },
     "execution_count": 32,
     "metadata": {},
     "output_type": "execute_result"
    }
   ],
   "source": [
    "df_movie['배급사'].value_counts()\n",
    "# 배급사가 여러개인 영화가 존재하는 것을 확인"
   ]
  },
  {
   "cell_type": "code",
   "execution_count": 33,
   "metadata": {},
   "outputs": [
    {
     "name": "stdout",
     "output_type": "stream",
     "text": [
      "'롯데'를 포함한 배급사의 개수: 2\n"
     ]
    }
   ],
   "source": [
    "# 예시\n",
    "# '롯데' 포함된 행 개수 세기\n",
    "lotte_count = df_movie['배급사'].str.contains(\"롯데\", na=False).sum()\n",
    "print(f\"'롯데'를 포함한 배급사의 개수: {lotte_count}\")\n"
   ]
  },
  {
   "cell_type": "code",
   "execution_count": 34,
   "metadata": {},
   "outputs": [
    {
     "name": "stdout",
     "output_type": "stream",
     "text": [
      "                    배급사\n",
      "0   롯데컬처웍스, (주)롯데엔터테인먼트\n",
      "36   롯데컬쳐웍스 (주)롯데엔터테인먼트\n"
     ]
    }
   ],
   "source": [
    "# '롯데'가 포함된 행 출력\n",
    "lotte_rows = df_movie[df_movie['배급사'].str.contains(\"롯데\", na=False)]\n",
    "print(lotte_rows[['배급사']])  # '배급사' 열만 확인\n",
    "# 파싱할 필요성을 확인"
   ]
  },
  {
   "cell_type": "code",
   "execution_count": 35,
   "metadata": {},
   "outputs": [
    {
     "data": {
      "text/plain": [
       "63"
      ]
     },
     "execution_count": 35,
     "metadata": {},
     "output_type": "execute_result"
    }
   ],
   "source": [
    "# 배급사 열만 떼어내서 새로운 DataFrame 생성\n",
    "df_dist = df_movie[['배급사']].copy()\n",
    "\n",
    "# 공백을 기준으로 split하고 쉼표 제거\n",
    "df_dist['배급사_분리'] = df_dist['배급사'].str.split()  # 공백 기준으로 분리\n",
    "df_dist['배급사_분리'] = df_dist['배급사_분리'].apply(lambda x: [i.replace(',', '') for i in x])  # 쉼표 제거\n",
    "\n",
    "# 배급사별로 개수를 세기 위해 explode 사용\n",
    "exploded = df_dist.explode('배급사_분리')\n",
    "\n",
    "# 배급사별 개수 계산\n",
    "dist_count = exploded['배급사_분리'].value_counts()\n",
    "dist_count.shape[0]"
   ]
  },
  {
   "cell_type": "markdown",
   "metadata": {},
   "source": [
    "#### 감독 수 - 62명"
   ]
  },
  {
   "cell_type": "code",
   "execution_count": 31,
   "metadata": {},
   "outputs": [
    {
     "data": {
      "text/plain": [
       "감독\n",
       "최윤호                        2\n",
       "마대윤                        1\n",
       "서동현                        1\n",
       "이영용                        1\n",
       "임순례                        1\n",
       "이해영                        1\n",
       "연상호                        1\n",
       "주영                         1\n",
       "정주리                        1\n",
       "이수성                        1\n",
       "임성용                        1\n",
       "김태준                        1\n",
       "권혁재                        1\n",
       "곽정덕                        1\n",
       "김덕중                        1\n",
       "김주환                        1\n",
       "이원태                        1\n",
       "이창열                        1\n",
       "민용근                        1\n",
       "박동기                        1\n",
       "최창환                        1\n",
       "배인우                        1\n",
       "박성광                        1\n",
       "임성운                        1\n",
       "김현정                        1\n",
       "형슬우                        1\n",
       "장항준                        1\n",
       "이소현                        1\n",
       "최종태                        1\n",
       "김성환                        1\n",
       "이완민                        1\n",
       "최세환                        1\n",
       "이송희일                       1\n",
       "한경탁                        1\n",
       "홍상수                        1\n",
       "양경희                        1\n",
       "이원석                        1\n",
       "조은성                        1\n",
       "양윤모                        1\n",
       "이병헌                        1\n",
       "문신구                        1\n",
       "신근호                        1\n",
       "임재완                        1\n",
       "이상훈                        1\n",
       "박동훈, 최하나, 송현주, 한인미, 윤성호    1\n",
       "장형모                        1\n",
       "최승연                        1\n",
       "가성문                        1\n",
       "이상용                        1\n",
       "이현준                        1\n",
       "이종필                        1\n",
       "김홍기                        1\n",
       "황승제                        1\n",
       "이황                         1\n",
       "박훈정                        1\n",
       "신재호                        1\n",
       "윤여창                        1\n",
       "최주연                        1\n",
       "Name: count, dtype: int64"
      ]
     },
     "execution_count": 31,
     "metadata": {},
     "output_type": "execute_result"
    }
   ],
   "source": [
    "df_movie['감독'].value_counts()"
   ]
  },
  {
   "cell_type": "code",
   "execution_count": 37,
   "metadata": {},
   "outputs": [
    {
     "data": {
      "text/plain": [
       "58"
      ]
     },
     "execution_count": 37,
     "metadata": {},
     "output_type": "execute_result"
    }
   ],
   "source": [
    "# 감독수 계산\n",
    "director_count = df_movie['감독'].value_counts()\n",
    "director_count.shape[0]"
   ]
  },
  {
   "cell_type": "code",
   "execution_count": 53,
   "metadata": {},
   "outputs": [
    {
     "name": "stdout",
     "output_type": "stream",
     "text": [
      "62\n"
     ]
    }
   ],
   "source": [
    "# 다른 문제를 풀던 중 감독 수 여러명인 영화 발견 so, 재파싱\n",
    "unique_director_count = count_unique_values(df_movie, '감독')\n",
    "print(unique_director_count)"
   ]
  },
  {
   "cell_type": "markdown",
   "metadata": {},
   "source": [
    "#### 출연진 수 - 263명"
   ]
  },
  {
   "cell_type": "code",
   "execution_count": 38,
   "metadata": {},
   "outputs": [
    {
     "data": {
      "text/plain": [
       "출연진\n",
       "권상우, 오정세, 이민정, 박소이, 김준                                                                                    1\n",
       "지일주, 지연                                                                                                   1\n",
       "정가은                                                                                                       1\n",
       "송민경                                                                                                       1\n",
       "황정민, 현빈, 강기영                                                                                              1\n",
       "설경구, 이하늬, 박소감, 박해수, 서현우, 김동희                                                                              1\n",
       "강수연, 김현주, 류경수                                                                                             1\n",
       "임선우, 김명찬, 이장유, 박현숙                                                                                        1\n",
       "김시은, 배두나, 박우영, 정수하                                                                                        1\n",
       "이동휘, 정은채, 강길우, 정다은                                                                                        1\n",
       "윤시윤, 설인아, 노상현, 문지인, 이규복, 김영웅                                                                              1\n",
       "천우희, 임시완, 김희원                                                                                             1\n",
       "진선규, 성유빈, 오나라, 고창석, 장동주, 고규필                                                                              1\n",
       "신현준, 이문식, 김민경, 홍은기, 최성원                                                                                   1\n",
       "조은지, 박종환, 곽민규, 소이, 송은지, 곽진무                                                                               1\n",
       "유연석, 차태현                                                                                                  1\n",
       "조진웅, 이성민, 김무열                                                                                             1\n",
       "선동혁, 정아미, 박종진                                                                                             1\n",
       "김다미, 전소니, 변우석                                                                                             1\n",
       "신민재, 송보은, 이경욱, 설유진, 현진영, 박동기, 김세환                                                                         1\n",
       "강길우, 강진아, 김시은, 변중희, 이한주, 정수지                                                                              1\n",
       "오준택, 임지섭, 박해인, 장영준, 방진원, 서지안, 채수아                                                                         1\n",
       "박성웅, 이이경, 염혜란, 최민수, 오달수, 윤제문, 백지혜, 서동원, 한다솔                                                               1\n",
       "허준석, 이영석, 남보라                                                                                             1\n",
       "이설, 박지수                                                                                                   1\n",
       "안재홍, 양한열                                                                                                  1\n",
       "김명임, 김도현, 김순덕, 박유신, 이미경, 최지연, 박혜영                                                                         1\n",
       "양홍주, 나현준                                                                                                  1\n",
       "이음, 윤가현, 인내상                                                                                              1\n",
       "오원빈, 서지희, 심현탁, 박정철, 김수하, 김민, 김봉주, 조수빈, 정병훈                                                                1\n",
       "옥자연, 기윤, 하민호                                                                                              1\n",
       "박호산, 신애리, 백수련, 이노아, 정혜인, 이용녀                                                                              1\n",
       "윤박, 우지현, 박미현, 장희령, 이대연, 박소진, 유인수                                                                          1\n",
       "조한선, 정지운, 정태우, 노수산나, 박순천, 정인기, 이지원                                                                        1\n",
       "신석호, 하성국, 김승윤, 김민희, 김소령                                                                                   1\n",
       "박정우, 박영훈                                                                                                  1\n",
       "이하늬, 이선균, 공명, 김상욱                                                                                         1\n",
       "심희섭, 전혜진, 한승도, 박수영                                                                                        1\n",
       "유다인, 김다현, 문희경, 김정균, 진혜원, 이지용                                                                              1\n",
       "박서준, 아이유, 김종수, 고창석, 정승길, 이현우, 양현민, 홍완표, 허준석, 이하늬                                                          1\n",
       "허지나, 남명렬                                                                                                  1\n",
       "장동윤, 박유나                                                                                                  1\n",
       "차선우, 유지애, 김소희, 이원석, 서지후                                                                                   1\n",
       "이푸름, 권민혁, 김준형, 심소영, 김모범                                                                                   1\n",
       "김경일, 양현민, 김소형, 김우겸, 정승길, 조윤서, 신사랑, 오경화, 서벽준, 정유연                                                          1\n",
       "윤성모, 정미미, 장원혁                                                                                             1\n",
       "박성일, 공민정, 임지호, 전신환, 송덕호, 최준혁, 한태경                                                                         1\n",
       "김선영, 이윤지, 최민영, 김용준                                                                                        1\n",
       "마동석, 이준혁, 아오키 무네타카, 이범수, 김민재, 이지훈, 김도건, 최동구, 이세호, 고규필, 전석호, 최우준, 한규원, 이태규, 홍준영, 안세호, 강윤, 배누리, 심영은, 김기호    1\n",
       "이나영                                                                                                       1\n",
       "김재화, 조민재, 박강섭                                                                                             1\n",
       "김강현, 차선우, 한수연, 신연서, 서은채                                                                                   1\n",
       "소이                                                                                                        1\n",
       "김정팔, 박상욱, 신의현, 이경준, 유재인                                                                                   1\n",
       "김선호, 강태주, 김강우, 고아라                                                                                        1\n",
       "이재원, 박상욱, 정서하, 허웅, 안수호                                                                                    1\n",
       "서효림, 오지호, 김승수, 이설구, 노지유                                                                                   1\n",
       "정영주, 안미나, 배진아, 한가은                                                                                        1\n",
       "박성웅, 박선호, 김희정                                                                                             1\n",
       "Name: count, dtype: int64"
      ]
     },
     "execution_count": 38,
     "metadata": {},
     "output_type": "execute_result"
    }
   ],
   "source": [
    "df_movie['출연진'].value_counts()"
   ]
  },
  {
   "cell_type": "code",
   "execution_count": 40,
   "metadata": {},
   "outputs": [],
   "source": [
    "def count_unique_values(df, column_name):\n",
    "    \"\"\"\n",
    "    주어진 DataFrame에서 특정 열에 대해 공백을 기준으로 분리하고 쉼표를 제거한 후,\n",
    "    중복 없이 고유한 값의 개수를 반환하는 함수.\n",
    "    \n",
    "    Parameters:\n",
    "    - df: 작업할 DataFrame\n",
    "    - column_name: 고유값을 카운트할 열 이름 (예: '배급사')\n",
    "    \n",
    "    Returns:\n",
    "    - 고유한 값들의 개수\n",
    "    \"\"\"\n",
    "    # 해당 열만 떼어내서 새로운 DataFrame 생성\n",
    "    df_dist = df[[column_name]].copy()\n",
    "\n",
    "    # 공백을 기준으로 split하고 쉼표 제거\n",
    "    df_dist[column_name + '_분리'] = df_dist[column_name].str.split()  # 공백 기준으로 분리\n",
    "    df_dist[column_name + '_분리'] = df_dist[column_name + '_분리'].apply(lambda x: [i.replace(',', '') for i in x])  # 쉼표 제거\n",
    "\n",
    "    # explode를 사용하여 각 항목을 새로운 행으로 분리\n",
    "    exploded = df_dist.explode(column_name + '_분리')\n",
    "\n",
    "    # 고유한 값들의 개수 계산\n",
    "    unique_count = exploded[column_name + '_분리'].value_counts().shape[0]\n",
    "\n",
    "    return unique_count"
   ]
  },
  {
   "cell_type": "code",
   "execution_count": 41,
   "metadata": {},
   "outputs": [
    {
     "name": "stdout",
     "output_type": "stream",
     "text": [
      "263\n"
     ]
    }
   ],
   "source": [
    "unique_actor_count = count_unique_values(df_movie, '출연진')\n",
    "print(unique_actor_count)"
   ]
  },
  {
   "cell_type": "markdown",
   "metadata": {},
   "source": [
    "#### 장르 수 세기 - 14개"
   ]
  },
  {
   "cell_type": "code",
   "execution_count": 42,
   "metadata": {},
   "outputs": [
    {
     "data": {
      "text/plain": [
       "장르\n",
       "드라마                27\n",
       "액션                  5\n",
       "코미디                 4\n",
       "멜로·로맨스              3\n",
       "멜로/로맨스              2\n",
       "기타                  2\n",
       "스릴러                 2\n",
       "멜로·로맨스·코미디          2\n",
       "범죄, 드라마             1\n",
       "드라마, 멜로·로맨스, 가족     1\n",
       "코미디, 액션             1\n",
       "SF                  1\n",
       "다큐멘터리               1\n",
       "멜로,로맨스,드라마          1\n",
       "범죄·액션·스럴리           1\n",
       "드라마,멜로              1\n",
       "공포·미스터리             1\n",
       "범죄, 액션              1\n",
       "공포,코미디              1\n",
       "범죄                  1\n",
       "Name: count, dtype: int64"
      ]
     },
     "execution_count": 42,
     "metadata": {},
     "output_type": "execute_result"
    }
   ],
   "source": [
    "df_movie['장르'].value_counts()\n",
    "# 다양한 특수문자에 대해서 적용 필요"
   ]
  },
  {
   "cell_type": "code",
   "execution_count": 43,
   "metadata": {},
   "outputs": [],
   "source": [
    "import re\n",
    "\n",
    "def count_unique_values(df, column_name):\n",
    "    \"\"\"\n",
    "    주어진 DataFrame에서 특정 열에 대해 다양한 특수문자를 기준으로 분리하고,\n",
    "    중복 없이 고유한 값의 개수를 반환하는 함수.\n",
    "    \n",
    "    Parameters:\n",
    "    - df: 작업할 DataFrame\n",
    "    - column_name: 고유값을 카운트할 열 이름 (예: '배급사')\n",
    "    \n",
    "    Returns:\n",
    "    - 고유한 값들의 개수\n",
    "    \"\"\"\n",
    "    # 해당 열만 떼어내서 새로운 DataFrame 생성\n",
    "    df_dist = df[[column_name]].copy()\n",
    "\n",
    "    # 특수문자를 포함한 문자열을 분리하기 위한 정규 표현식\n",
    "    # [·/,] : ·, /, , (쉼표) 등을 기준으로 분리\n",
    "    # re.split()을 사용하여 문자열을 분리\n",
    "    df_dist[column_name + '_분리'] = df_dist[column_name].apply(lambda x: re.split(r'[·/,]', x))  # 특수문자 기준으로 분리\n",
    "    \n",
    "    # 쉼표 제거\n",
    "    df_dist[column_name + '_분리'] = df_dist[column_name + '_분리'].apply(lambda x: [i.strip().replace(',', '') for i in x])  # 공백 제거 후 쉼표 제거\n",
    "\n",
    "    # explode를 사용하여 각 항목을 새로운 행으로 분리\n",
    "    exploded = df_dist.explode(column_name + '_분리')\n",
    "\n",
    "    # 고유한 값들의 개수 계산\n",
    "    unique_count = exploded[column_name + '_분리'].value_counts().shape[0]\n",
    "\n",
    "    return unique_count\n"
   ]
  },
  {
   "cell_type": "code",
   "execution_count": 44,
   "metadata": {},
   "outputs": [
    {
     "name": "stdout",
     "output_type": "stream",
     "text": [
      "14\n"
     ]
    }
   ],
   "source": [
    "# 예시로 '장르' 열에 대해 함수 실행\n",
    "unique_genre_count = count_unique_values(df_movie, '장르')\n",
    "print(unique_genre_count)"
   ]
  },
  {
   "cell_type": "markdown",
   "metadata": {},
   "source": [
    "### 2. 감독, 출연진 등 중복 조건들에 대해 파악한다."
   ]
  },
  {
   "cell_type": "markdown",
   "metadata": {},
   "source": [
    "#### 감독 중복조건"
   ]
  },
  {
   "cell_type": "code",
   "execution_count": 56,
   "metadata": {},
   "outputs": [
    {
     "data": {
      "text/plain": [
       "감독\n",
       "최윤호                        2\n",
       "마대윤                        1\n",
       "서동현                        1\n",
       "이영용                        1\n",
       "임순례                        1\n",
       "이해영                        1\n",
       "연상호                        1\n",
       "주영                         1\n",
       "정주리                        1\n",
       "이수성                        1\n",
       "임성용                        1\n",
       "김태준                        1\n",
       "권혁재                        1\n",
       "곽정덕                        1\n",
       "김덕중                        1\n",
       "김주환                        1\n",
       "이원태                        1\n",
       "이창열                        1\n",
       "민용근                        1\n",
       "박동기                        1\n",
       "최창환                        1\n",
       "배인우                        1\n",
       "박성광                        1\n",
       "임성운                        1\n",
       "김현정                        1\n",
       "형슬우                        1\n",
       "장항준                        1\n",
       "이소현                        1\n",
       "최종태                        1\n",
       "김성환                        1\n",
       "이완민                        1\n",
       "최세환                        1\n",
       "이송희일                       1\n",
       "한경탁                        1\n",
       "홍상수                        1\n",
       "양경희                        1\n",
       "이원석                        1\n",
       "조은성                        1\n",
       "양윤모                        1\n",
       "이병헌                        1\n",
       "문신구                        1\n",
       "신근호                        1\n",
       "임재완                        1\n",
       "이상훈                        1\n",
       "박동훈, 최하나, 송현주, 한인미, 윤성호    1\n",
       "장형모                        1\n",
       "최승연                        1\n",
       "가성문                        1\n",
       "이상용                        1\n",
       "이현준                        1\n",
       "이종필                        1\n",
       "김홍기                        1\n",
       "황승제                        1\n",
       "이황                         1\n",
       "박훈정                        1\n",
       "신재호                        1\n",
       "윤여창                        1\n",
       "최주연                        1\n",
       "Name: count, dtype: int64"
      ]
     },
     "execution_count": 56,
     "metadata": {},
     "output_type": "execute_result"
    }
   ],
   "source": [
    "df_movie['감독'].value_counts()"
   ]
  },
  {
   "cell_type": "code",
   "execution_count": 57,
   "metadata": {},
   "outputs": [
    {
     "name": "stdout",
     "output_type": "stream",
     "text": [
      "32                       이송희일\n",
      "44    박동훈, 최하나, 송현주, 한인미, 윤성호\n",
      "Name: 감독, dtype: object\n"
     ]
    }
   ],
   "source": [
    "# 감독 열에서 길이가 4글자 이상인 값을 필터링\n",
    "long_directors = df_movie[df_movie['감독'].apply(lambda x: len(x) >= 4)]\n",
    "\n",
    "# 필터링된 감독 이름 출력\n",
    "print(long_directors['감독'])\n",
    "\n",
    "# 감독 수 중복 data 발견"
   ]
  },
  {
   "cell_type": "code",
   "execution_count": 58,
   "metadata": {},
   "outputs": [
    {
     "name": "stdout",
     "output_type": "stream",
     "text": [
      "                         감독\n",
      "44  박동훈, 최하나, 송현주, 한인미, 윤성호\n",
      "32                     이송희일\n",
      "0                       마대윤\n",
      "3                       이영용\n",
      "4                       임순례\n",
      "5                       이해영\n",
      "6                       연상호\n",
      "8                       정주리\n",
      "9                       형슬우\n",
      "1                       이수성\n",
      "2                       서동현\n",
      "19                      박동기\n",
      "12                      권혁재\n",
      "13                      곽정덕\n",
      "14                      김덕중\n",
      "15                      김주환\n",
      "16                      이원태\n",
      "17                      이창열\n",
      "18                      민용근\n",
      "23                      임성운\n",
      "20                      최창환\n",
      "21                      배인우\n",
      "22                      박성광\n",
      "25                      장항준\n",
      "24                      김현정\n",
      "10                      임성용\n",
      "11                      김태준\n",
      "42                      이상훈\n",
      "26                      이소현\n",
      "29                      한경탁\n",
      "27                      김성환\n",
      "30                      이완민\n",
      "31                      최세환\n",
      "33                      신근호\n",
      "28                      최종태\n",
      "35                      양경희\n",
      "36                      이원석\n",
      "37                      조은성\n",
      "38                      양윤모\n",
      "39                      이병헌\n",
      "40                      문신구\n",
      "41                      임재완\n",
      "34                      홍상수\n",
      "51                      황승제\n",
      "43                      장형모\n",
      "45                      이현준\n",
      "46                      최승연\n",
      "47                      가성문\n",
      "48                      이상용\n",
      "49                      이종필\n",
      "50                      김홍기\n",
      "57                      윤여창\n",
      "53                      최윤호\n",
      "54                      박훈정\n",
      "55                      최윤호\n",
      "58                      최주연\n",
      "56                      신재호\n",
      "7                        주영\n",
      "52                       이황\n"
     ]
    }
   ],
   "source": [
    "# 감독 열을 글자 수가 많은 순으로 정렬\n",
    "sorted_directors = df_movie.sort_values(by='감독', key=lambda x: x.str.len(), ascending=False)\n",
    "\n",
    "# 정렬된 감독 열 출력\n",
    "print(sorted_directors[['감독']])"
   ]
  },
  {
   "cell_type": "code",
   "execution_count": 59,
   "metadata": {},
   "outputs": [
    {
     "name": "stdout",
     "output_type": "stream",
     "text": [
      "감독 파싱 후 총 합계 : 62명\n"
     ]
    }
   ],
   "source": [
    "unique_director_count = count_unique_values(df_movie, '감독')\n",
    "print(f\"감독 파싱 후 총 합계 : {unique_director_count}명\")"
   ]
  },
  {
   "cell_type": "markdown",
   "metadata": {},
   "source": [
    "#### 출연진 중복요건"
   ]
  },
  {
   "cell_type": "code",
   "execution_count": 60,
   "metadata": {},
   "outputs": [
    {
     "data": {
      "text/plain": [
       "출연진\n",
       "권상우, 오정세, 이민정, 박소이, 김준                                                                                    1\n",
       "지일주, 지연                                                                                                   1\n",
       "정가은                                                                                                       1\n",
       "송민경                                                                                                       1\n",
       "황정민, 현빈, 강기영                                                                                              1\n",
       "설경구, 이하늬, 박소감, 박해수, 서현우, 김동희                                                                              1\n",
       "강수연, 김현주, 류경수                                                                                             1\n",
       "임선우, 김명찬, 이장유, 박현숙                                                                                        1\n",
       "김시은, 배두나, 박우영, 정수하                                                                                        1\n",
       "이동휘, 정은채, 강길우, 정다은                                                                                        1\n",
       "윤시윤, 설인아, 노상현, 문지인, 이규복, 김영웅                                                                              1\n",
       "천우희, 임시완, 김희원                                                                                             1\n",
       "진선규, 성유빈, 오나라, 고창석, 장동주, 고규필                                                                              1\n",
       "신현준, 이문식, 김민경, 홍은기, 최성원                                                                                   1\n",
       "조은지, 박종환, 곽민규, 소이, 송은지, 곽진무                                                                               1\n",
       "유연석, 차태현                                                                                                  1\n",
       "조진웅, 이성민, 김무열                                                                                             1\n",
       "선동혁, 정아미, 박종진                                                                                             1\n",
       "김다미, 전소니, 변우석                                                                                             1\n",
       "신민재, 송보은, 이경욱, 설유진, 현진영, 박동기, 김세환                                                                         1\n",
       "강길우, 강진아, 김시은, 변중희, 이한주, 정수지                                                                              1\n",
       "오준택, 임지섭, 박해인, 장영준, 방진원, 서지안, 채수아                                                                         1\n",
       "박성웅, 이이경, 염혜란, 최민수, 오달수, 윤제문, 백지혜, 서동원, 한다솔                                                               1\n",
       "허준석, 이영석, 남보라                                                                                             1\n",
       "이설, 박지수                                                                                                   1\n",
       "안재홍, 양한열                                                                                                  1\n",
       "김명임, 김도현, 김순덕, 박유신, 이미경, 최지연, 박혜영                                                                         1\n",
       "양홍주, 나현준                                                                                                  1\n",
       "이음, 윤가현, 인내상                                                                                              1\n",
       "오원빈, 서지희, 심현탁, 박정철, 김수하, 김민, 김봉주, 조수빈, 정병훈                                                                1\n",
       "옥자연, 기윤, 하민호                                                                                              1\n",
       "박호산, 신애리, 백수련, 이노아, 정혜인, 이용녀                                                                              1\n",
       "윤박, 우지현, 박미현, 장희령, 이대연, 박소진, 유인수                                                                          1\n",
       "조한선, 정지운, 정태우, 노수산나, 박순천, 정인기, 이지원                                                                        1\n",
       "신석호, 하성국, 김승윤, 김민희, 김소령                                                                                   1\n",
       "박정우, 박영훈                                                                                                  1\n",
       "이하늬, 이선균, 공명, 김상욱                                                                                         1\n",
       "심희섭, 전혜진, 한승도, 박수영                                                                                        1\n",
       "유다인, 김다현, 문희경, 김정균, 진혜원, 이지용                                                                              1\n",
       "박서준, 아이유, 김종수, 고창석, 정승길, 이현우, 양현민, 홍완표, 허준석, 이하늬                                                          1\n",
       "허지나, 남명렬                                                                                                  1\n",
       "장동윤, 박유나                                                                                                  1\n",
       "차선우, 유지애, 김소희, 이원석, 서지후                                                                                   1\n",
       "이푸름, 권민혁, 김준형, 심소영, 김모범                                                                                   1\n",
       "김경일, 양현민, 김소형, 김우겸, 정승길, 조윤서, 신사랑, 오경화, 서벽준, 정유연                                                          1\n",
       "윤성모, 정미미, 장원혁                                                                                             1\n",
       "박성일, 공민정, 임지호, 전신환, 송덕호, 최준혁, 한태경                                                                         1\n",
       "김선영, 이윤지, 최민영, 김용준                                                                                        1\n",
       "마동석, 이준혁, 아오키 무네타카, 이범수, 김민재, 이지훈, 김도건, 최동구, 이세호, 고규필, 전석호, 최우준, 한규원, 이태규, 홍준영, 안세호, 강윤, 배누리, 심영은, 김기호    1\n",
       "이나영                                                                                                       1\n",
       "김재화, 조민재, 박강섭                                                                                             1\n",
       "김강현, 차선우, 한수연, 신연서, 서은채                                                                                   1\n",
       "소이                                                                                                        1\n",
       "김정팔, 박상욱, 신의현, 이경준, 유재인                                                                                   1\n",
       "김선호, 강태주, 김강우, 고아라                                                                                        1\n",
       "이재원, 박상욱, 정서하, 허웅, 안수호                                                                                    1\n",
       "서효림, 오지호, 김승수, 이설구, 노지유                                                                                   1\n",
       "정영주, 안미나, 배진아, 한가은                                                                                        1\n",
       "박성웅, 박선호, 김희정                                                                                             1\n",
       "Name: count, dtype: int64"
      ]
     },
     "execution_count": 60,
     "metadata": {},
     "output_type": "execute_result"
    }
   ],
   "source": [
    "df_movie['출연진'].value_counts()"
   ]
  },
  {
   "cell_type": "code",
   "execution_count": 64,
   "metadata": {},
   "outputs": [
    {
     "name": "stdout",
     "output_type": "stream",
     "text": [
      "0                                권상우, 오정세, 이민정, 박소이, 김준\n",
      "1                                               지일주, 지연\n",
      "4                                          황정민, 현빈, 강기영\n",
      "5                          설경구, 이하늬, 박소감, 박해수, 서현우, 김동희\n",
      "6                                         강수연, 김현주, 류경수\n",
      "7                                    임선우, 김명찬, 이장유, 박현숙\n",
      "8                                    김시은, 배두나, 박우영, 정수하\n",
      "9                                    이동휘, 정은채, 강길우, 정다은\n",
      "10                         윤시윤, 설인아, 노상현, 문지인, 이규복, 김영웅\n",
      "11                                        천우희, 임시완, 김희원\n",
      "12                         진선규, 성유빈, 오나라, 고창석, 장동주, 고규필\n",
      "13                              신현준, 이문식, 김민경, 홍은기, 최성원\n",
      "14                          조은지, 박종환, 곽민규, 소이, 송은지, 곽진무\n",
      "15                                             유연석, 차태현\n",
      "16                                        조진웅, 이성민, 김무열\n",
      "17                                        선동혁, 정아미, 박종진\n",
      "18                                        김다미, 전소니, 변우석\n",
      "19                    신민재, 송보은, 이경욱, 설유진, 현진영, 박동기, 김세환\n",
      "20                         강길우, 강진아, 김시은, 변중희, 이한주, 정수지\n",
      "21                    오준택, 임지섭, 박해인, 장영준, 방진원, 서지안, 채수아\n",
      "22          박성웅, 이이경, 염혜란, 최민수, 오달수, 윤제문, 백지혜, 서동원, 한다솔\n",
      "23                                        허준석, 이영석, 남보라\n",
      "24                                              이설, 박지수\n",
      "25                                             안재홍, 양한열\n",
      "26                    김명임, 김도현, 김순덕, 박유신, 이미경, 최지연, 박혜영\n",
      "27                                             양홍주, 나현준\n",
      "28                                         이음, 윤가현, 인내상\n",
      "29           오원빈, 서지희, 심현탁, 박정철, 김수하, 김민, 김봉주, 조수빈, 정병훈\n",
      "30                                         옥자연, 기윤, 하민호\n",
      "31                         박호산, 신애리, 백수련, 이노아, 정혜인, 이용녀\n",
      "32                     윤박, 우지현, 박미현, 장희령, 이대연, 박소진, 유인수\n",
      "33                   조한선, 정지운, 정태우, 노수산나, 박순천, 정인기, 이지원\n",
      "34                              신석호, 하성국, 김승윤, 김민희, 김소령\n",
      "35                                             박정우, 박영훈\n",
      "36                                    이하늬, 이선균, 공명, 김상욱\n",
      "37                                   심희섭, 전혜진, 한승도, 박수영\n",
      "38                         유다인, 김다현, 문희경, 김정균, 진혜원, 이지용\n",
      "39     박서준, 아이유, 김종수, 고창석, 정승길, 이현우, 양현민, 홍완표, 허준석, 이하늬\n",
      "40                                             허지나, 남명렬\n",
      "41                                             장동윤, 박유나\n",
      "42                              차선우, 유지애, 김소희, 이원석, 서지후\n",
      "43                              이푸름, 권민혁, 김준형, 심소영, 김모범\n",
      "44     김경일, 양현민, 김소형, 김우겸, 정승길, 조윤서, 신사랑, 오경화, 서벽준, 정유연\n",
      "45                                        윤성모, 정미미, 장원혁\n",
      "46                    박성일, 공민정, 임지호, 전신환, 송덕호, 최준혁, 한태경\n",
      "47                                   김선영, 이윤지, 최민영, 김용준\n",
      "48    마동석, 이준혁, 아오키 무네타카, 이범수, 김민재, 이지훈, 김도건, 최동구, 이...\n",
      "50                                        김재화, 조민재, 박강섭\n",
      "51                              김강현, 차선우, 한수연, 신연서, 서은채\n",
      "53                              김정팔, 박상욱, 신의현, 이경준, 유재인\n",
      "54                                   김선호, 강태주, 김강우, 고아라\n",
      "55                               이재원, 박상욱, 정서하, 허웅, 안수호\n",
      "56                              서효림, 오지호, 김승수, 이설구, 노지유\n",
      "57                                   정영주, 안미나, 배진아, 한가은\n",
      "58                                        박성웅, 박선호, 김희정\n",
      "Name: 출연진, dtype: object\n"
     ]
    }
   ],
   "source": [
    "# 출연진 열에서 길이가 4글자 이상인 값을 필터링\n",
    "long_actors = df_movie[df_movie['출연진'].apply(lambda x: len(x) >= 4)]\n",
    "\n",
    "# 필터링된 출연진 이름 출력\n",
    "print(long_actors['출연진'])\n",
    "\n",
    "# 출연진 수 중복 data 매우 많음"
   ]
  },
  {
   "cell_type": "code",
   "execution_count": 65,
   "metadata": {},
   "outputs": [
    {
     "name": "stdout",
     "output_type": "stream",
     "text": [
      "                                                  출연진\n",
      "48  마동석, 이준혁, 아오키 무네타카, 이범수, 김민재, 이지훈, 김도건, 최동구, 이...\n",
      "39   박서준, 아이유, 김종수, 고창석, 정승길, 이현우, 양현민, 홍완표, 허준석, 이하늬\n",
      "44   김경일, 양현민, 김소형, 김우겸, 정승길, 조윤서, 신사랑, 오경화, 서벽준, 정유연\n",
      "22        박성웅, 이이경, 염혜란, 최민수, 오달수, 윤제문, 백지혜, 서동원, 한다솔\n",
      "29         오원빈, 서지희, 심현탁, 박정철, 김수하, 김민, 김봉주, 조수빈, 정병훈\n",
      "33                 조한선, 정지운, 정태우, 노수산나, 박순천, 정인기, 이지원\n",
      "46                  박성일, 공민정, 임지호, 전신환, 송덕호, 최준혁, 한태경\n",
      "21                  오준택, 임지섭, 박해인, 장영준, 방진원, 서지안, 채수아\n",
      "19                  신민재, 송보은, 이경욱, 설유진, 현진영, 박동기, 김세환\n",
      "26                  김명임, 김도현, 김순덕, 박유신, 이미경, 최지연, 박혜영\n",
      "32                   윤박, 우지현, 박미현, 장희령, 이대연, 박소진, 유인수\n",
      "38                       유다인, 김다현, 문희경, 김정균, 진혜원, 이지용\n",
      "5                        설경구, 이하늬, 박소감, 박해수, 서현우, 김동희\n",
      "20                       강길우, 강진아, 김시은, 변중희, 이한주, 정수지\n",
      "12                       진선규, 성유빈, 오나라, 고창석, 장동주, 고규필\n",
      "10                       윤시윤, 설인아, 노상현, 문지인, 이규복, 김영웅\n",
      "31                       박호산, 신애리, 백수련, 이노아, 정혜인, 이용녀\n",
      "14                        조은지, 박종환, 곽민규, 소이, 송은지, 곽진무\n",
      "43                            이푸름, 권민혁, 김준형, 심소영, 김모범\n",
      "53                            김정팔, 박상욱, 신의현, 이경준, 유재인\n",
      "42                            차선우, 유지애, 김소희, 이원석, 서지후\n",
      "51                            김강현, 차선우, 한수연, 신연서, 서은채\n",
      "34                            신석호, 하성국, 김승윤, 김민희, 김소령\n",
      "13                            신현준, 이문식, 김민경, 홍은기, 최성원\n",
      "56                            서효림, 오지호, 김승수, 이설구, 노지유\n",
      "55                             이재원, 박상욱, 정서하, 허웅, 안수호\n",
      "0                              권상우, 오정세, 이민정, 박소이, 김준\n",
      "57                                 정영주, 안미나, 배진아, 한가은\n",
      "54                                 김선호, 강태주, 김강우, 고아라\n",
      "47                                 김선영, 이윤지, 최민영, 김용준\n",
      "37                                 심희섭, 전혜진, 한승도, 박수영\n",
      "7                                  임선우, 김명찬, 이장유, 박현숙\n",
      "9                                  이동휘, 정은채, 강길우, 정다은\n",
      "8                                  김시은, 배두나, 박우영, 정수하\n",
      "36                                  이하늬, 이선균, 공명, 김상욱\n",
      "16                                      조진웅, 이성민, 김무열\n",
      "17                                      선동혁, 정아미, 박종진\n",
      "18                                      김다미, 전소니, 변우석\n",
      "6                                       강수연, 김현주, 류경수\n",
      "11                                      천우희, 임시완, 김희원\n",
      "50                                      김재화, 조민재, 박강섭\n",
      "58                                      박성웅, 박선호, 김희정\n",
      "23                                      허준석, 이영석, 남보라\n",
      "45                                      윤성모, 정미미, 장원혁\n",
      "30                                       옥자연, 기윤, 하민호\n",
      "4                                        황정민, 현빈, 강기영\n",
      "28                                       이음, 윤가현, 인내상\n",
      "15                                           유연석, 차태현\n",
      "25                                           안재홍, 양한열\n",
      "35                                           박정우, 박영훈\n",
      "27                                           양홍주, 나현준\n",
      "41                                           장동윤, 박유나\n",
      "40                                           허지나, 남명렬\n",
      "24                                            이설, 박지수\n",
      "1                                             지일주, 지연\n",
      "2                                                 정가은\n",
      "3                                                 송민경\n",
      "49                                                이나영\n",
      "52                                                 소이\n"
     ]
    }
   ],
   "source": [
    "# 출연진 열을 글자 수가 많은 순으로 정렬\n",
    "sorted_directors = df_movie.sort_values(by='출연진', key=lambda x: x.str.len(), ascending=False)\n",
    "\n",
    "# 정렬된 출연진 열 출력\n",
    "print(sorted_directors[['출연진']])"
   ]
  },
  {
   "cell_type": "code",
   "execution_count": 66,
   "metadata": {},
   "outputs": [
    {
     "name": "stdout",
     "output_type": "stream",
     "text": [
      "출연진 파싱 후 총 합계 : 262명\n"
     ]
    }
   ],
   "source": [
    "unique_actors_count = count_unique_values(df_movie, '출연진')\n",
    "print(f\"출연진 파싱 후 총 합계 : {unique_actors_count}명\")"
   ]
  },
  {
   "cell_type": "markdown",
   "metadata": {},
   "source": [
    "### 3. 추천 기준 설정 및 영화 추천 적정 수량 실험\n",
    "- 추천 기준 : 사용자의 가장 최근 시청 영화 data 수집 후 유사한 장르의 영화 추천\n",
    "- 추천 수량 : 5개"
   ]
  },
  {
   "cell_type": "code",
   "execution_count": 70,
   "metadata": {},
   "outputs": [
    {
     "name": "stdout",
     "output_type": "stream",
     "text": [
      "입력한 영화: 10일간의 애인, 장르: 멜로/로맨스\n",
      "\n",
      "추천된 영화들:\n",
      "                 제목               장르\n",
      "10  우리 사랑이 향기로 남을 때       멜로·로맨스·코미디\n",
      "37           낭만적 공장           멜로·로맨스\n",
      "20          여섯 개의 밤  드라마, 멜로·로맨스, 가족\n",
      "41               롱디       멜로·로맨스·코미디\n",
      "2        별 볼일 없는 인생           멜로/로맨스\n"
     ]
    }
   ],
   "source": [
    "import re\n",
    "\n",
    "# 1. 사용자로부터 영화 제목 입력받기\n",
    "user_input = input(\"최근 재밌게 본 영화 제목을 입력해주세요: \")\n",
    "\n",
    "# 2. 해당 영화의 장르 찾기\n",
    "if user_input in df_movie['제목'].values:\n",
    "    user_movie = df_movie[df_movie['제목'] == user_input].iloc[0]\n",
    "    user_genre = user_movie['장르']\n",
    "    print(f\"입력한 영화: {user_input}, 장르: {user_genre}\")\n",
    "\n",
    "    # 3. 장르에 특수기호가 있을 경우, 이를 기준으로 장르를 분리\n",
    "    # 예: 멜로/로맨스 -> ['멜로', '로맨스']\n",
    "    genre_list = re.split('[,·/]', user_genre)  # 쉼표, 공백, 슬래시 등으로 분리\n",
    "\n",
    "    # 4. 각 장르가 포함된 영화들 필터링\n",
    "    similar_genre_movies = df_movie[df_movie['장르'].apply(lambda x: any(genre in x for genre in genre_list))]\n",
    "\n",
    "    # 5. 그 중에서 랜덤으로 5개 선택 (자기 자신을 제외하기 위해 제외 조건 추가)\n",
    "    similar_genre_movies = similar_genre_movies[similar_genre_movies['제목'] != user_input]\n",
    "    \n",
    "    if similar_genre_movies.shape[0] >= 5:\n",
    "        recommended_movies = similar_genre_movies.sample(5)\n",
    "    else:\n",
    "        recommended_movies = similar_genre_movies\n",
    "\n",
    "    # 6. 추천된 영화 출력\n",
    "    print(\"\\n추천된 영화들:\")\n",
    "    print(recommended_movies[['제목', '장르']])\n",
    "\n",
    "else:\n",
    "    print(\"입력한 영화 제목이 데이터에 없습니다.\")"
   ]
  },
  {
   "cell_type": "markdown",
   "metadata": {},
   "source": [
    "### 4. 다양한 접근 방식\n",
    "- 좋아하는 감독 및 출연진의 영화로 추천\n",
    "- 사용자가 보고싶어하는 장르의 영화 추천"
   ]
  },
  {
   "cell_type": "code",
   "execution_count": 72,
   "metadata": {},
   "outputs": [
    {
     "name": "stdout",
     "output_type": "stream",
     "text": [
      "\n",
      "추천된 영화들:\n",
      "           제목   감독                     출연진      장르\n",
      "2  별 볼일 없는 인생  서동현                     정가은  멜로/로맨스\n",
      "0         스위치  마대윤  권상우, 오정세, 이민정, 박소이, 김준      기타\n"
     ]
    }
   ],
   "source": [
    "# 좋아하는 감독 및 출연진의 영화로 추천\n",
    "# 1. 사용자로부터 좋아하는 감독과 출연진 입력받기\n",
    "user_director_input = input(\"좋아하는 감독을 입력해주세요: \")\n",
    "user_cast_input = input(\"좋아하는 출연진을 입력해주세요 (쉼표로 구분): \")\n",
    "\n",
    "# 2. 감독과 출연진 정보로 영화 찾기\n",
    "# 사용자가 입력한 출연진을 쉼표 기준으로 분리\n",
    "user_cast = [actor.strip() for actor in user_cast_input.split(',')]\n",
    "\n",
    "# 3. 감독과 출연진 기준으로 영화 필터링\n",
    "# 3-1. 감독과 출연진 모두 포함된 영화 찾기\n",
    "both_director_and_cast = df_movie[df_movie['감독'].str.contains(user_director_input, na=False) & \n",
    "                                   df_movie['출연진'].apply(lambda x: any(actor in x.split(', ') for actor in user_cast))]\n",
    "\n",
    "# 3-2. 감독만 포함된 영화 찾기\n",
    "only_director = df_movie[df_movie['감독'].str.contains(user_director_input, na=False) &\n",
    "                         ~df_movie['출연진'].apply(lambda x: any(actor in x.split(', ') for actor in user_cast))]\n",
    "\n",
    "# 3-3. 출연진만 포함된 영화 찾기\n",
    "only_cast = df_movie[~df_movie['감독'].str.contains(user_director_input, na=False) &\n",
    "                     df_movie['출연진'].apply(lambda x: any(actor in x.split(', ') for actor in user_cast))]\n",
    "\n",
    "# 4. 각 그룹의 영화들을 우선순위대로 합치기\n",
    "recommended_movies = pd.concat([both_director_and_cast, only_director, only_cast])\n",
    "\n",
    "# 5. 추천된 영화 출력 (우선순위에 따라 정렬)\n",
    "if recommended_movies.shape[0] > 0:\n",
    "    print(\"\\n추천된 영화들:\")\n",
    "    print(recommended_movies[['제목', '감독', '출연진', '장르']].head(5))  # 최대 5개 영화 추천\n",
    "else:\n",
    "\n",
    "    print(\"추천할 영화가 없습니다.\")"
   ]
  },
  {
   "cell_type": "code",
   "execution_count": 76,
   "metadata": {},
   "outputs": [
    {
     "name": "stdout",
     "output_type": "stream",
     "text": [
      "추천할 영화가 없습니다.\n"
     ]
    }
   ],
   "source": [
    "# 사용자가 보고싶어하는 장르의 영화 추천\n",
    "# 1. 사용자로부터 보고 싶은 장르 입력받기\n",
    "user_genre_input = input(\"보고 싶은 장르를 입력해주세요(여러개인 경우 쉼표로 구분): \")\n",
    "\n",
    "# 2. 해당 장르에 맞는 영화 찾기\n",
    "# 장르가 여러 개인 경우(쉼표로 구분된 경우)를 처리하기 위해, 입력된 장르를 쉼표로 분리하고,\n",
    "# 각 영화가 그 중 하나라도 포함되는지 확인합니다.\n",
    "user_genres = [genre.strip() for genre in user_genre_input.split(',')]\n",
    "\n",
    "# 3. 사용자 입력에 맞는 장르의 영화들 필터링\n",
    "recommended_movies = df_movie[df_movie['장르'].apply(lambda x: any(genre in x for genre in user_genres))]\n",
    "\n",
    "# 4. 추천된 영화 출력 (최대 5개 영화 추천)\n",
    "if recommended_movies.shape[0] > 0:\n",
    "    print(\"\\n추천된 영화들:\")\n",
    "    print(recommended_movies[['제목', '장르']].head(5))  # 최대 5개 영화 추천\n",
    "else:\n",
    "    print(\"추천할 영화가 없습니다.\")\n"
   ]
  }
 ],
 "metadata": {
  "kernelspec": {
   "display_name": "Python 3",
   "language": "python",
   "name": "python3"
  },
  "language_info": {
   "codemirror_mode": {
    "name": "ipython",
    "version": 3
   },
   "file_extension": ".py",
   "mimetype": "text/x-python",
   "name": "python",
   "nbconvert_exporter": "python",
   "pygments_lexer": "ipython3",
   "version": "3.11.9"
  }
 },
 "nbformat": 4,
 "nbformat_minor": 2
}
